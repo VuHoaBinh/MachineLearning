{
  "nbformat": 4,
  "nbformat_minor": 0,
  "metadata": {
    "colab": {
      "provenance": []
    },
    "kernelspec": {
      "name": "python3",
      "display_name": "Python 3"
    },
    "language_info": {
      "name": "python"
    }
  },
  "cells": [
    {
      "cell_type": "code",
      "execution_count": 22,
      "metadata": {
        "id": "49mHxWq41WpM"
      },
      "outputs": [],
      "source": [
        "import cv2 as cv\n",
        "import numpy as np\n"
      ]
    },
    {
      "cell_type": "code",
      "source": [
        "f = np.zeros((5,5), dtype = np.uint8)\n",
        "f[2,2] = 1\n",
        "w = np.asarray([[1,2,3],\n",
        "              [4,5,6],\n",
        "              [7,8,9]], dtype=np.uint8)\n",
        "\n",
        "print(\"Correlation\")\n",
        "g = cv.filter2D(f, -1, w, borderType=cv.BORDER_CONSTANT)\n",
        "print(g)\n",
        "print('-------------')\n",
        "print(\"Convolution\")\n",
        "w1 = cv.flip(w, -1)\n",
        "h = cv.filter2D(f, -1, w1, borderType=cv.BORDER_CONSTANT)\n",
        "print(h)"
      ],
      "metadata": {
        "colab": {
          "base_uri": "https://localhost:8080/"
        },
        "id": "SN5rpXOu5fDv",
        "outputId": "1058b91d-78d6-4dff-d285-99f53f644c6a"
      },
      "execution_count": 23,
      "outputs": [
        {
          "output_type": "stream",
          "name": "stdout",
          "text": [
            "Correlation\n",
            "[[0 0 0 0 0]\n",
            " [0 9 8 7 0]\n",
            " [0 6 5 4 0]\n",
            " [0 3 2 1 0]\n",
            " [0 0 0 0 0]]\n",
            "-------------\n",
            "Convolution\n",
            "[[0 0 0 0 0]\n",
            " [0 1 2 3 0]\n",
            " [0 4 5 6 0]\n",
            " [0 7 8 9 0]\n",
            " [0 0 0 0 0]]\n"
          ]
        }
      ]
    },
    {
      "cell_type": "code",
      "source": [
        "a = np.asarray([[1,6,11,16,21],\n",
        "               [2,7,12,17,22],\n",
        "               [3,8,13,18,23],\n",
        "               [4,9,14,19,24],\n",
        "               [5,10,15,20,25]], dtype=np.float32)\n",
        "k  = np.ones((3,3), dtype=np.float32)\n",
        "k = k/9\n",
        "\n",
        "out = cv.filter2D(a,-1,k, borderType=cv.BORDER_CONSTANT )\n",
        "print(out)"
      ],
      "metadata": {
        "colab": {
          "base_uri": "https://localhost:8080/"
        },
        "id": "bQ9X8ZvK7TBn",
        "outputId": "d44b7e7b-fbd9-4835-8605-25693fcba4da"
      },
      "execution_count": 24,
      "outputs": [
        {
          "output_type": "stream",
          "name": "stdout",
          "text": [
            "[[ 1.7777778  4.3333335  7.666667  11.000001   8.444445 ]\n",
            " [ 3.         7.0000005 12.000001  17.000002  13.       ]\n",
            " [ 3.6666667  8.        13.        18.        13.666667 ]\n",
            " [ 4.3333335  9.        14.        19.        14.333333 ]\n",
            " [ 3.1111112  6.333333   9.666666  13.         9.777778 ]]\n"
          ]
        }
      ]
    },
    {
      "cell_type": "code",
      "source": [
        "b=np.asarray([[1,2,0,1,2],\n",
        "              [2,3,1,1,2],\n",
        "              [1,4,2,2,0],\n",
        "              [3,2,3,3,0],\n",
        "              [1,0,0,2,1]\n",
        "              ], dtype=np.uint8)\n",
        "\n",
        "w = np.asarray([[1,1,1],\n",
        "              [1,1,2],\n",
        "              [2,1,1]], dtype=np.uint8)\n",
        "\n",
        "print(\"Correlation\")\n",
        "img = cv.filter2D(b, -1, w, borderType=cv.BORDER_CONSTANT)\n",
        "print(img)\n",
        "\n",
        "print(\"-------\")\n",
        "print(\"Convolution\")\n",
        "w1 = cv.flip(w, -1)\n",
        "img1 = cv.filter2D(b, -1, w1, borderType=cv.BORDER_CONSTANT)\n",
        "print(img1)"
      ],
      "metadata": {
        "colab": {
          "base_uri": "https://localhost:8080/"
        },
        "id": "LwU8-juCDUpP",
        "outputId": "88aa585f-0df3-43f0-ee4e-2839054cf014"
      },
      "execution_count": 25,
      "outputs": [
        {
          "output_type": "stream",
          "name": "stdout",
          "text": [
            "Correlation\n",
            "[[10 11 12 10  7]\n",
            " [16 18 21 15 10]\n",
            " [19 26 25 17 11]\n",
            " [13 20 21 13 10]\n",
            " [ 6  9 12 10  6]]\n",
            "-------\n",
            "Convolution\n",
            "[[ 8 10 10  7  7]\n",
            " [15 18 20 14  9]\n",
            " [18 23 26 18 10]\n",
            " [15 21 22 16 11]\n",
            " [ 8 13 13  9  8]]\n"
          ]
        }
      ]
    }
  ]
}